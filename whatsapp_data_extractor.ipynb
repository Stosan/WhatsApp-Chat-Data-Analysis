{
 "cells": [
  {
   "cell_type": "code",
   "execution_count": null,
   "id": "c9dba5e8-9d93-429d-85ba-fa7ec91e2f73",
   "metadata": {},
   "outputs": [],
   "source": [
    "import pandas as pd\n",
    "import re\n",
    "# Visualization\n",
    "from matplotlib import pyplot as plt\n",
    "%matplotlib inline\n",
    "import seaborn as sns\n",
    "import plotly.graph_objects as go\n",
    "from plotly.offline import iplot, init_notebook_mode\n",
    "import plotly.express as px\n",
    "import plotly.io as pio\n",
    "from collections import Counter\n",
    "from wordcloud import WordCloud\n",
    "init_notebook_mode(True)\n",
    "from wordcloud import WordCloud"
   ]
  },
  {
   "cell_type": "code",
   "execution_count": null,
   "id": "639b462a-7992-4956-afd0-99df91029405",
   "metadata": {},
   "outputs": [],
   "source": [
    "def parse_file(text_file):\n",
    "    '''Convert WhatsApp chat log text file to a Pandas dataframe.'''\n",
    "   \n",
    "    # Define different date formats that can be found in the text file\n",
    "    split_formats = [\n",
    "        '\\n(\\d{1,2}/\\d{1,2}/\\d{2,4}, \\d{1,2}:\\d{2} [APap][mM]) -',  # Format: MM/DD/YY, HH:MM AM/PM\n",
    "        '\\n(\\d{1,2}/\\d{1,2}/\\d{2,4}, \\d{1,2}:\\d{2}\\u202f[APap][mM]) -',  # Format: MM/DD/YY, HH:MM AM/PM with unicode character \\u202f\n",
    "        '\\n(\\d{1,2}/\\d{1,2}/\\d{2,4}, \\d{1,2}:\\d{2}) -',  # Format: MM/DD/YY, HH:MM\n",
    "    ]\n",
    "\n",
    "    # Try to split the text file with each date format\n",
    "    for fmt in split_formats:\n",
    "        parsed_data = re.split(fmt, text_file)\n",
    "        # If the text file is successfully split, break the loop\n",
    "        if len(parsed_data) != 1:\n",
    "            break\n",
    "\n",
    "    # Remove leading and trailing spaces from each piece of parsed data\n",
    "    parsed_data = [data.strip() for data in parsed_data]\n",
    "\n",
    "    # Pair up the parsed data (timestamp with author) and convert it to a dataframe\n",
    "    message_list = list(zip(parsed_data[1::2], parsed_data[2::2]))\n",
    "    message_df = pd.DataFrame(message_list, columns=['timestamp', 'users'])\n",
    "\n",
    "    # Convert the 'Timestamp' column to datetime format\n",
    "    message_df['timestamp'] = pd.to_datetime(message_df['timestamp'], format='%m/%d/%y, %I:%M\\u202f%p')\n",
    "\n",
    "    # Split the 'users' column into 'users' and 'chat' at the first colon\n",
    "    # Do not remove other characters after the second or third colon\n",
    "    message_df[['users', 'chats']] = message_df['users'].apply(lambda x: pd.Series(str(x).split(':', 1)))\n",
    "    #message_df['chat'] = message_df['chat'].replace(' <Media omitted>', 'sent a media file')\n",
    "    message_df['users'] = message_df['users'].fillna('')\n",
    "    message_df['chats'] = message_df['chats'].fillna('')\n",
    "    message_df.to_csv(\"../data/SS_chat.csv\",index=False)\n",
    "    return message_df"
   ]
  },
  {
   "cell_type": "code",
   "execution_count": null,
   "id": "12949c2c-9f7a-4413-94c6-a5e57973b2a7",
   "metadata": {},
   "outputs": [],
   "source": [
    "# Load your file here\n",
    "with open('../data/SS.txt', 'r') as file:\n",
    "    file_data = file.read()\n",
    "\n",
    "df = parse_file(file_data)\n",
    "df.head()"
   ]
  },
  {
   "cell_type": "markdown",
   "id": "d49dabbe-62f0-4952-ad0e-2d3db57245af",
   "metadata": {},
   "source": [
    "#### EDA"
   ]
  },
  {
   "cell_type": "code",
   "execution_count": null,
   "id": "56786054-cd00-44b4-83fe-e2e2608c6a1d",
   "metadata": {},
   "outputs": [],
   "source": [
    "# Define regex pattern for exclusion\n",
    "regex_pattern = r'\\w*\\s*added .*|\\w*\\s*created group|Your security code with.*'\n",
    "\n",
    "# Apply regex condition to exclude rows\n",
    "viz_df = df[~df['users'].str.contains(regex_pattern, regex=True, case=False)]\n",
    "viz_df.to_csv(\"../data/SS_viz_data.csv\",index=False)"
   ]
  },
  {
   "cell_type": "code",
   "execution_count": null,
   "id": "61a1e7ea-a4c2-479e-a31c-acf46a788b64",
   "metadata": {},
   "outputs": [],
   "source": [
    "# Regular expression to match URLs\n",
    "url_pattern = r'http[s]?://(?:[a-zA-Z]|[0-9]|[$-_@.&+]|[!*\\\\(\\\\),]|(?:%[0-9a-fA-F][0-9a-fA-F]))+|www.(?:[a-zA-Z]|[0-9]|[$-_@.&+]|[!*\\\\(\\\\),]|(?:%[0-9a-fA-F][0-9a-fA-F]))+'\n",
    "\n",
    "# Function to count URLs in a text\n",
    "def count_urls(text):\n",
    "    urls = re.findall(url_pattern, text)\n",
    "    return len(urls)\n"
   ]
  },
  {
   "cell_type": "code",
   "execution_count": null,
   "id": "18e27e1f-7e21-4662-8b68-188064509825",
   "metadata": {},
   "outputs": [],
   "source": [
    "import plotly.express as px\n",
    "\n",
    "def visualize_data(df):\n",
    "    # 1. Which author has the highest message count?\n",
    "    message_count = df['users'].value_counts().reset_index()\n",
    "    message_count.columns = ['users', 'Count']\n",
    "    fig = px.bar(message_count, x='users', y='Count', title='Who chatted the most')\n",
    "    fig.update_layout(\n",
    "    plot_bgcolor='rgba(0,0,0,0)',title={\"font\":{\"size\":15}},\n",
    "   \n",
    "    )\n",
    "    fig.update_yaxes(showgrid=True, gridcolor='#EFEFEF')\n",
    "    pio.write_image(fig, '../data/message_count.png')\n",
    "    fig.show()\n",
    "\n",
    "    # 2. Which author has the highest message with a URL?\n",
    "    df['URL_Count'] = df['chats'].apply(count_urls)\n",
    "    url_count = df.groupby('users')['URL_Count'].sum().reset_index()\n",
    "    fig = px.bar(url_count, x='users', y='URL_Count', title='Who sent more web links')\n",
    "    fig.update_layout(title={\"font\":{\"size\":15}},\n",
    "    plot_bgcolor='rgba(0,0,0,0)',\n",
    "   \n",
    "    )\n",
    "    fig.update_yaxes(showgrid=True, gridcolor='#EFEFEF')\n",
    "    pio.write_image(fig, '../data/message_url_count.png')\n",
    "\n",
    "    fig.show()\n",
    "\n",
    "    # 3. Which author has <Media omitted>?\n",
    "    df['Media_Count'] = df['chats'].apply(lambda x: 1 if '<Media omitted>' in x else 0)\n",
    "    media_count = df.groupby('users')['Media_Count'].sum().reset_index()\n",
    "    fig = px.bar(media_count, x='users', y='Media_Count', title='Who sent more media files')\n",
    "    fig.update_layout(title={\"font\":{\"size\":15}},\n",
    "    plot_bgcolor='rgba(0,0,0,0)',\n",
    "  \n",
    "    )\n",
    "    fig.update_yaxes(showgrid=True, gridcolor='#EFEFEF')\n",
    "    pio.write_image(fig, '../data/media_count.png')\n",
    "    fig.show()\n",
    "\n",
    "    # 4. Ratio of <Media omitted> to other text\n",
    "    total_messages = df['chats'].count()\n",
    "    media_messages = df['Media_Count'].sum()\n",
    "    data = {'Type': ['<Media omitted>', 'Other Text'], 'Count': [media_messages, total_messages - media_messages]}\n",
    "    df_ratio = pd.DataFrame(data)\n",
    "    fig = px.pie(df_ratio, values='Count', names='Type', title='How did we chat')\n",
    "    fig.update_traces(textposition='outside', textinfo='percent',)\n",
    "    pio.write_image(fig, '../data/ratio_pie_chart.png')\n",
    "    fig.show()\n",
    "\n",
    "    #.5 What date did we chat the hightest\n",
    "    date_counts = viz_df['timestamp'].dt.strftime('%Y-%m-%d').value_counts()\n",
    "    \n",
    "    # Sort by the date\n",
    "    date_counts = date_counts.sort_index()\n",
    "    \n",
    "    # Plot the time series using plotly with smooth curves\n",
    "    fig = go.Figure(data=go.Scatter(x=date_counts.index, y=date_counts.values, mode='lines+markers', line=dict(shape='spline')))\n",
    "    \n",
    "    fig.update_yaxes(showgrid=True, gridcolor='#EFEFEF')\n",
    "    fig.update_layout(title='Which date did we chat the most', xaxis_title='Date',\n",
    "                      plot_bgcolor='rgba(0,0,0,0)', yaxis_title='Count',\n",
    "                       autosize=False,\n",
    "                       width=1635, # width in pixels, 16.35cm\n",
    "                       height=514, # height in pixels, 5.14cm\n",
    "                      yaxis=dict(range=[0, 50], tickmode='linear', tick0=0, dtick=10),\n",
    "                      xaxis=dict(tickmode='array', tickvals=date_counts.index, ticktext=date_counts.index, tickangle=90))\n",
    "    pio.write_image(fig, '../data/ts_chat_highest.png')\n",
    "    fig.show()\n",
    "\n",
    "# Call the function with your dataframe\n",
    "visualize_data(viz_df)"
   ]
  },
  {
   "cell_type": "code",
   "execution_count": null,
   "id": "60ee2f36-721e-4a9c-aa23-3fc46cb0cec7",
   "metadata": {},
   "outputs": [],
   "source": [
    "# Extract the minute from the datetime column and count the occurrences\n",
    "time_counts = viz_df['timestamp'].dt.minute.value_counts()\n",
    "\n",
    "# Sort by the minute of the day\n",
    "time_counts = time_counts.sort_index()\n",
    "\n",
    "# Plot the time series using plotly with smooth curves\n",
    "fig = go.Figure(data=go.Scatter(x=time_counts.index, y=time_counts.values, mode='lines+markers', line=dict(shape='spline')))\n",
    "\n",
    "fig.update_yaxes(showgrid=True, gridcolor='#EFEFEF')\n",
    "fig.update_layout(title='How did we chat everyday', xaxis_title='Minute of the Hour',\n",
    "                  plot_bgcolor='rgba(0,0,0,0)', yaxis_title='Count',\n",
    "                   autosize=True,\n",
    "                    height=350,\n",
    "                  yaxis=dict(range=[0, 14], tickmode='linear', tick0=0, dtick=2),\n",
    "                  xaxis=dict(tickmode='linear', tick0=0, dtick=5))\n",
    "pio.write_image(fig, '../data/ts_chat_everyday.png')\n",
    "fig.show()"
   ]
  },
  {
   "cell_type": "code",
   "execution_count": null,
   "id": "49f52126-2e1f-4b6e-952a-23f827acb445",
   "metadata": {},
   "outputs": [],
   "source": [
    "date_counts.index"
   ]
  },
  {
   "cell_type": "markdown",
   "id": "a7a03ad9-aed6-4ba2-87a9-7055426ebe6f",
   "metadata": {},
   "source": [
    "1. which word occurred the most in Messages column?\n",
    "2. from authors column, who sent that message?\n",
    "3. use wordcous to represent item 1\n",
    "4. search for all occurence of item 1 and save the message and author in a dataframe"
   ]
  },
  {
   "cell_type": "markdown",
   "id": "6bb71c91-75e4-47d9-9631-08eec7afee33",
   "metadata": {},
   "source": [
    "##### # which word occurred the most in Messages column?"
   ]
  },
  {
   "cell_type": "code",
   "execution_count": null,
   "id": "3c3165a0-c3a4-4208-927b-49e0e60829fe",
   "metadata": {},
   "outputs": [],
   "source": [
    "\n",
    "words = ' '.join(viz_df['chats']).split()\n",
    "word_count_data=list(Counter(words).items())\n",
    "word_count_df = pd.DataFrame(word_count_data, columns=['Word', 'Count'])\n",
    "word_count_df"
   ]
  },
  {
   "cell_type": "code",
   "execution_count": null,
   "id": "5eb257d4-97f3-4dc2-9dca-40469b0eaa51",
   "metadata": {},
   "outputs": [],
   "source": [
    "# Find the index of the row with the highest count\n",
    "max_count_index = word_count_df['Count'].idxmax()\n",
    "lg_count=word_count_df['Count'].nlargest(5)\n",
    "lg_count"
   ]
  },
  {
   "cell_type": "code",
   "execution_count": null,
   "id": "cb4de504-a972-4798-864f-317269638c4a",
   "metadata": {},
   "outputs": [],
   "source": []
  },
  {
   "cell_type": "code",
   "execution_count": null,
   "id": "2ea45fd1-fb2f-4490-987b-c4233b9d3796",
   "metadata": {},
   "outputs": [],
   "source": [
    "max_count_index = 0"
   ]
  },
  {
   "cell_type": "code",
   "execution_count": null,
   "id": "ea1886a2-7a3d-4e7d-8a48-05db89f84e18",
   "metadata": {},
   "outputs": [],
   "source": [
    "# Get the word and count with the highest count\n",
    "word_with_highest_count = word_count_df.loc[max_count_index, 'Word']\n",
    "count_with_highest_count = word_count_df.loc[max_count_index, 'Count']\n",
    "\n",
    "# Display the word and count with the highest count\n",
    "print(f\"Word with the highest count: {word_with_highest_count}, Count: {count_with_highest_count}\")"
   ]
  },
  {
   "cell_type": "markdown",
   "id": "3a422899-72fc-472d-a3f3-3e9098d295a8",
   "metadata": {},
   "source": [
    "##### from authors column, who sent that message?"
   ]
  },
  {
   "cell_type": "code",
   "execution_count": null,
   "id": "dca3e461-49f3-4d06-9e5e-f56ef0f1293f",
   "metadata": {},
   "outputs": [],
   "source": [
    "# Find the author who sent the message containing the word with the highest count\n",
    "author_of_highest_count_word = df.loc[df['chats'].str.contains(word_with_highest_count, case=False, regex=True), 'users'].iloc[0]\n",
    "author_of_highest_count_word"
   ]
  },
  {
   "cell_type": "markdown",
   "id": "9f99ce44-069d-4346-8c48-8f5334bac0d8",
   "metadata": {},
   "source": [
    "##### use wordcous to represent item 1"
   ]
  },
  {
   "cell_type": "code",
   "execution_count": null,
   "id": "39a69f22-dd33-41de-ab0e-7c0b24edf6f5",
   "metadata": {},
   "outputs": [],
   "source": [
    "wordcloud = WordCloud(width = 1000, height = 500).generate(' '.join(words))\n",
    "plt.figure(figsize=(15,8))\n",
    "plt.imshow(wordcloud)\n",
    "plt.axis(\"off\")\n",
    "plt.savefig(\"../data/wordcloud.png\")\n"
   ]
  },
  {
   "cell_type": "code",
   "execution_count": null,
   "id": "bfff189f-4648-4a56-b530-40bbf1f77800",
   "metadata": {},
   "outputs": [],
   "source": [
    "df_common_word = viz_df[viz_df['chats'].str.contains(word_with_highest_count)][['chats', 'users']]\n",
    "df_common_word"
   ]
  },
  {
   "cell_type": "code",
   "execution_count": null,
   "id": "6cfe252f-7abe-4819-8ba9-2755c95ad34f",
   "metadata": {},
   "outputs": [],
   "source": []
  }
 ],
 "metadata": {
  "kernelspec": {
   "display_name": "Python 3 (ipykernel)",
   "language": "python",
   "name": "python3"
  },
  "language_info": {
   "codemirror_mode": {
    "name": "ipython",
    "version": 3
   },
   "file_extension": ".py",
   "mimetype": "text/x-python",
   "name": "python",
   "nbconvert_exporter": "python",
   "pygments_lexer": "ipython3",
   "version": "3.10.12"
  }
 },
 "nbformat": 4,
 "nbformat_minor": 5
}
